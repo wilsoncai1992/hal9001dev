{
 "cells": [
  {
   "cell_type": "markdown",
   "metadata": {},
   "source": [
    "# <u>HAL: R vs. Rcpp</u>\n",
    "### Prepared by [Nima Hejazi](http://nimahejazi.org), 30 August 2017"
   ]
  },
  {
   "cell_type": "markdown",
   "metadata": {},
   "source": [
    "First, we'll load the packages required for this demonstration. If the requisite packages are not yet installed, uncomment the lines in the cell immediately below and run them."
   ]
  },
  {
   "cell_type": "code",
   "execution_count": 57,
   "metadata": {},
   "outputs": [
    {
     "name": "stderr",
     "output_type": "stream",
     "text": [
      "\n",
      "Attaching package: ‘gridExtra’\n",
      "\n",
      "The following object is masked from ‘package:dplyr’:\n",
      "\n",
      "    combine\n",
      "\n"
     ]
    }
   ],
   "source": [
    "library(dplyr)\n",
    "library(tidyr)\n",
    "library(ggplot2)\n",
    "library(gridExtra)\n",
    "library(microbenchmark)\n",
    "\n",
    "# control plot dimensions\n",
    "options(repr.plot.width  = 4, repr.plot.height = 3)"
   ]
  },
  {
   "cell_type": "code",
   "execution_count": 41,
   "metadata": {
    "collapsed": true
   },
   "outputs": [],
   "source": [
    "library(devtools)\n",
    "#install_github(\"benkeser/halplus\")\n",
    "#install_github(\"nhejazi/lassi\")"
   ]
  },
  {
   "cell_type": "code",
   "execution_count": 8,
   "metadata": {
    "collapsed": true
   },
   "outputs": [],
   "source": [
    "library(hal)\n",
    "library(lassi)"
   ]
  },
  {
   "cell_type": "markdown",
   "metadata": {},
   "source": [
    "## Preliminaries"
   ]
  },
  {
   "cell_type": "markdown",
   "metadata": {},
   "source": [
    "Now, let's generate some toy data to use as an example:"
   ]
  },
  {
   "cell_type": "code",
   "execution_count": 9,
   "metadata": {
    "collapsed": true
   },
   "outputs": [],
   "source": [
    "# simulation constants\n",
    "set.seed(467392)\n",
    "n_obs <- 1000\n",
    "n_covars <- 3\n",
    "\n",
    "# make some training data\n",
    "x <- replicate(n_covars, rnorm(n_obs))\n",
    "y <- sin(x[, 1]) * sin(x[, 2]) + rnorm(n_obs, 0, 0.2)\n",
    "\n",
    "# make some testing data\n",
    "test_x <- replicate(n_covars, rnorm(n_obs))\n",
    "test_y <- sin(x[, 1]) * sin(x[, 2]) + rnorm(n_obs, 0, 0.2)"
   ]
  },
  {
   "cell_type": "markdown",
   "metadata": {},
   "source": [
    "Let's take a quick look at the simulated data:"
   ]
  },
  {
   "cell_type": "code",
   "execution_count": 10,
   "metadata": {},
   "outputs": [
    {
     "data": {
      "text/html": [
       "<table>\n",
       "<tbody>\n",
       "\t<tr><td> 2.44102981</td><td> 0.4670282 </td><td> 0.5659888 </td></tr>\n",
       "\t<tr><td>-1.21932335</td><td> 0.8894277 </td><td>-0.1174505 </td></tr>\n",
       "\t<tr><td>-0.40613567</td><td> 0.3474353 </td><td>-0.4692349 </td></tr>\n",
       "\t<tr><td>-1.09760477</td><td>-0.1173214 </td><td> 0.8895520 </td></tr>\n",
       "\t<tr><td> 0.23710498</td><td> 1.8049389 </td><td>-1.1283156 </td></tr>\n",
       "\t<tr><td> 0.06810091</td><td> 0.9301941 </td><td> 0.8971138 </td></tr>\n",
       "</tbody>\n",
       "</table>\n"
      ],
      "text/latex": [
       "\\begin{tabular}{lll}\n",
       "\t  2.44102981 &  0.4670282  &  0.5659888 \\\\\n",
       "\t -1.21932335 &  0.8894277  & -0.1174505 \\\\\n",
       "\t -0.40613567 &  0.3474353  & -0.4692349 \\\\\n",
       "\t -1.09760477 & -0.1173214  &  0.8895520 \\\\\n",
       "\t  0.23710498 &  1.8049389  & -1.1283156 \\\\\n",
       "\t  0.06810091 &  0.9301941  &  0.8971138 \\\\\n",
       "\\end{tabular}\n"
      ],
      "text/markdown": [
       "\n",
       "|  2.44102981 |  0.4670282  |  0.5659888  | \n",
       "| -1.21932335 |  0.8894277  | -0.1174505  | \n",
       "| -0.40613567 |  0.3474353  | -0.4692349  | \n",
       "| -1.09760477 | -0.1173214  |  0.8895520  | \n",
       "|  0.23710498 |  1.8049389  | -1.1283156  | \n",
       "|  0.06810091 |  0.9301941  |  0.8971138  | \n",
       "\n",
       "\n"
      ],
      "text/plain": [
       "     [,1]        [,2]       [,3]      \n",
       "[1,]  2.44102981  0.4670282  0.5659888\n",
       "[2,] -1.21932335  0.8894277 -0.1174505\n",
       "[3,] -0.40613567  0.3474353 -0.4692349\n",
       "[4,] -1.09760477 -0.1173214  0.8895520\n",
       "[5,]  0.23710498  1.8049389 -1.1283156\n",
       "[6,]  0.06810091  0.9301941  0.8971138"
      ]
     },
     "metadata": {},
     "output_type": "display_data"
    }
   ],
   "source": [
    "head(x)"
   ]
  },
  {
   "cell_type": "code",
   "execution_count": 11,
   "metadata": {},
   "outputs": [
    {
     "data": {
      "text/html": [
       "<ol class=list-inline>\n",
       "\t<li>0.225504056018668</li>\n",
       "\t<li>-0.662076507972945</li>\n",
       "\t<li>-0.0420213268271522</li>\n",
       "\t<li>-0.0596233662120072</li>\n",
       "\t<li>-0.0233304926292198</li>\n",
       "\t<li>0.100839766000576</li>\n",
       "</ol>\n"
      ],
      "text/latex": [
       "\\begin{enumerate*}\n",
       "\\item 0.225504056018668\n",
       "\\item -0.662076507972945\n",
       "\\item -0.0420213268271522\n",
       "\\item -0.0596233662120072\n",
       "\\item -0.0233304926292198\n",
       "\\item 0.100839766000576\n",
       "\\end{enumerate*}\n"
      ],
      "text/markdown": [
       "1. 0.225504056018668\n",
       "2. -0.662076507972945\n",
       "3. -0.0420213268271522\n",
       "4. -0.0596233662120072\n",
       "5. -0.0233304926292198\n",
       "6. 0.100839766000576\n",
       "\n",
       "\n"
      ],
      "text/plain": [
       "[1]  0.22550406 -0.66207651 -0.04202133 -0.05962337 -0.02333049  0.10083977"
      ]
     },
     "metadata": {},
     "output_type": "display_data"
    }
   ],
   "source": [
    "head(y)"
   ]
  },
  {
   "cell_type": "markdown",
   "metadata": {},
   "source": [
    "## HAL \"classic\" (pure R)"
   ]
  },
  {
   "cell_type": "markdown",
   "metadata": {},
   "source": [
    "We can invoke the classic implementation of the HAL estimator using the code from the eponymous R package, originally developed by Benkeser et al. in 2016. This implementation of the algorithm relies entirely on R.\n",
    "\n",
    "We can fit the estimator and examine it's performance on the simulated data set:"
   ]
  },
  {
   "cell_type": "code",
   "execution_count": 12,
   "metadata": {},
   "outputs": [
    {
     "name": "stdout",
     "output_type": "stream",
     "text": [
      "Making sparse matrix \n",
      "Making 3 basis functions of dimension 1\n",
      "Making 3 basis functions of dimension 2 \n",
      "Making 1 basis functions of dimension 3 \n",
      "Finding duplicate columns \n",
      "Fitting lasso \n",
      "Done with hal\n"
     ]
    },
    {
     "data": {
      "text/html": [
       "<table>\n",
       "<thead><tr><th></th><th scope=col>user.self</th><th scope=col>sys.self</th><th scope=col>elapsed</th><th scope=col>user.child</th><th scope=col>sys.child</th></tr></thead>\n",
       "<tbody>\n",
       "\t<tr><th scope=row>sparse_matrix</th><td>  2.485</td><td> 0.546 </td><td>  3.537</td><td>0      </td><td>0      </td></tr>\n",
       "\t<tr><th scope=row>find_duplicates</th><td>  1.297</td><td> 0.090 </td><td>  1.622</td><td>0      </td><td>0      </td></tr>\n",
       "\t<tr><th scope=row>lasso</th><td>-35.950</td><td>-1.081 </td><td>-42.988</td><td>0      </td><td>0      </td></tr>\n",
       "\t<tr><th scope=row>pred</th><td>  0.000</td><td> 0.000 </td><td>  0.000</td><td>0      </td><td>0      </td></tr>\n",
       "\t<tr><th scope=row>everything</th><td> 39.732</td><td> 1.717 </td><td> 48.147</td><td>0      </td><td>0      </td></tr>\n",
       "</tbody>\n",
       "</table>\n"
      ],
      "text/latex": [
       "\\begin{tabular}{r|lllll}\n",
       "  & user.self & sys.self & elapsed & user.child & sys.child\\\\\n",
       "\\hline\n",
       "\tsparse\\_matrix &   2.485 &  0.546  &   3.537 & 0       & 0      \\\\\n",
       "\tfind\\_duplicates &   1.297 &  0.090  &   1.622 & 0       & 0      \\\\\n",
       "\tlasso & -35.950 & -1.081  & -42.988 & 0       & 0      \\\\\n",
       "\tpred &   0.000 &  0.000  &   0.000 & 0       & 0      \\\\\n",
       "\teverything &  39.732 &  1.717  &  48.147 & 0       & 0      \\\\\n",
       "\\end{tabular}\n"
      ],
      "text/markdown": [
       "\n",
       "| <!--/--> | user.self | sys.self | elapsed | user.child | sys.child | \n",
       "|---|---|---|---|---|\n",
       "| sparse_matrix |   2.485 |  0.546  |   3.537 | 0       | 0       | \n",
       "| find_duplicates |   1.297 |  0.090  |   1.622 | 0       | 0       | \n",
       "| lasso | -35.950 | -1.081  | -42.988 | 0       | 0       | \n",
       "| pred |   0.000 |  0.000  |   0.000 | 0       | 0       | \n",
       "| everything |  39.732 |  1.717  |  48.147 | 0       | 0       | \n",
       "\n",
       "\n"
      ],
      "text/plain": [
       "                user.self sys.self elapsed user.child sys.child\n",
       "sparse_matrix     2.485    0.546     3.537 0          0        \n",
       "find_duplicates   1.297    0.090     1.622 0          0        \n",
       "lasso           -35.950   -1.081   -42.988 0          0        \n",
       "pred              0.000    0.000     0.000 0          0        \n",
       "everything       39.732    1.717    48.147 0          0        "
      ]
     },
     "metadata": {},
     "output_type": "display_data"
    }
   ],
   "source": [
    "hal_fit <- hal(Y = y, X = x, verbose = TRUE)\n",
    "hal_fit$times"
   ]
  },
  {
   "cell_type": "markdown",
   "metadata": {},
   "source": [
    "Of course, a single run of the `hal` function does not give much insight as to general code performance. To remedy this, we can perform a bit of rudimentary benchmarking:"
   ]
  },
  {
   "cell_type": "code",
   "execution_count": 50,
   "metadata": {},
   "outputs": [
    {
     "data": {
      "text/html": [
       "<table>\n",
       "<thead><tr><th scope=col>expr</th><th scope=col>min</th><th scope=col>lq</th><th scope=col>mean</th><th scope=col>median</th><th scope=col>uq</th><th scope=col>max</th><th scope=col>neval</th></tr></thead>\n",
       "<tbody>\n",
       "\t<tr><td>hal_fit_m &lt;- hal(Y = y, X = x, verbose = FALSE)</td><td>47.99729                                          </td><td>49.14772                                          </td><td>54.67328                                          </td><td>51.26018                                          </td><td>58.21695                                          </td><td>70.68861                                          </td><td>10                                                </td></tr>\n",
       "</tbody>\n",
       "</table>\n"
      ],
      "text/latex": [
       "\\begin{tabular}{r|llllllll}\n",
       " expr & min & lq & mean & median & uq & max & neval\\\\\n",
       "\\hline\n",
       "\t hal\\_fit\\_m <- hal(Y = y, X = x, verbose = FALSE) & 47.99729                                            & 49.14772                                            & 54.67328                                            & 51.26018                                            & 58.21695                                            & 70.68861                                            & 10                                                 \\\\\n",
       "\\end{tabular}\n"
      ],
      "text/markdown": [
       "\n",
       "expr | min | lq | mean | median | uq | max | neval | \n",
       "|---|\n",
       "| hal_fit_m <- hal(Y = y, X = x, verbose = FALSE) | 47.99729                                        | 49.14772                                        | 54.67328                                        | 51.26018                                        | 58.21695                                        | 70.68861                                        | 10                                              | \n",
       "\n",
       "\n"
      ],
      "text/plain": [
       "  expr                                            min      lq       mean    \n",
       "1 hal_fit_m <- hal(Y = y, X = x, verbose = FALSE) 47.99729 49.14772 54.67328\n",
       "  median   uq       max      neval\n",
       "1 51.26018 58.21695 70.68861 10   "
      ]
     },
     "metadata": {},
     "output_type": "display_data"
    }
   ],
   "source": [
    "m_hal <- microbenchmark(unit = \"s\", times = 10,\n",
    "  hal_fit_m <- hal(Y = y, X = x, verbose = FALSE)\n",
    ")\n",
    "summary(m_hal)"
   ]
  },
  {
   "cell_type": "markdown",
   "metadata": {},
   "source": [
    "Let's visualize the results of the benchmarking process:"
   ]
  },
  {
   "cell_type": "code",
   "execution_count": 61,
   "metadata": {
    "collapsed": true
   },
   "outputs": [],
   "source": [
    "# make plot\n",
    "p_hal_times <- m_hal %>%\n",
    " dplyr::transmute(\n",
    "     time_sec = time / 10^9\n",
    " ) %>%\n",
    " gather() %>%\n",
    " ggplot(., aes(x = key, y = value)) + geom_boxplot() + geom_point() +\n",
    "   xlab(\"\") + ylab(\"time (sec.)\") + ggtitle(\"HAL 'classic'\") + theme_minimal()"
   ]
  },
  {
   "cell_type": "markdown",
   "metadata": {},
   "source": [
    "## HAL9000 (with `Rcpp`)"
   ]
  },
  {
   "cell_type": "markdown",
   "metadata": {},
   "source": [
    "Given the computationally intensive nature of the algorithm, re-implementing parts of it in C++, and linking this to R via Rcpp, could provide noticeable performance advantages over the pure R implementation. To test this, initial steps in the algorithm -- in particular, building the design matrix and removing duplicate columns -- have been re-written in C++.\n",
    "\n",
    "Below, we examine the performance over a single fit of the HAL estimator, just as we did with the classic implementation:"
   ]
  },
  {
   "cell_type": "code",
   "execution_count": 13,
   "metadata": {},
   "outputs": [
    {
     "data": {
      "text/html": [
       "<table>\n",
       "<thead><tr><th></th><th scope=col>user.self</th><th scope=col>sys.self</th><th scope=col>elapsed</th><th scope=col>user.child</th><th scope=col>sys.child</th></tr></thead>\n",
       "<tbody>\n",
       "\t<tr><th scope=row>design_matrix</th><td> 0.242</td><td>0.051 </td><td> 0.312</td><td>0     </td><td>0     </td></tr>\n",
       "\t<tr><th scope=row>remove_duplicates</th><td> 0.050</td><td>0.024 </td><td> 0.075</td><td>0     </td><td>0     </td></tr>\n",
       "\t<tr><th scope=row>lasso</th><td>17.444</td><td>0.854 </td><td>19.115</td><td>0     </td><td>0     </td></tr>\n",
       "\t<tr><th scope=row>total</th><td>17.736</td><td>0.929 </td><td>19.502</td><td>0     </td><td>0     </td></tr>\n",
       "</tbody>\n",
       "</table>\n"
      ],
      "text/latex": [
       "\\begin{tabular}{r|lllll}\n",
       "  & user.self & sys.self & elapsed & user.child & sys.child\\\\\n",
       "\\hline\n",
       "\tdesign\\_matrix &  0.242 & 0.051  &  0.312 & 0      & 0     \\\\\n",
       "\tremove\\_duplicates &  0.050 & 0.024  &  0.075 & 0      & 0     \\\\\n",
       "\tlasso & 17.444 & 0.854  & 19.115 & 0      & 0     \\\\\n",
       "\ttotal & 17.736 & 0.929  & 19.502 & 0      & 0     \\\\\n",
       "\\end{tabular}\n"
      ],
      "text/markdown": [
       "\n",
       "| <!--/--> | user.self | sys.self | elapsed | user.child | sys.child | \n",
       "|---|---|---|---|\n",
       "| design_matrix |  0.242 | 0.051  |  0.312 | 0      | 0      | \n",
       "| remove_duplicates |  0.050 | 0.024  |  0.075 | 0      | 0      | \n",
       "| lasso | 17.444 | 0.854  | 19.115 | 0      | 0      | \n",
       "| total | 17.736 | 0.929  | 19.502 | 0      | 0      | \n",
       "\n",
       "\n"
      ],
      "text/plain": [
       "                  user.self sys.self elapsed user.child sys.child\n",
       "design_matrix      0.242    0.051     0.312  0          0        \n",
       "remove_duplicates  0.050    0.024     0.075  0          0        \n",
       "lasso             17.444    0.854    19.115  0          0        \n",
       "total             17.736    0.929    19.502  0          0        "
      ]
     },
     "metadata": {},
     "output_type": "display_data"
    }
   ],
   "source": [
    "lassi_fit <- fit_hal(x = x, y = y)\n",
    "lassi_fit$times"
   ]
  },
  {
   "cell_type": "markdown",
   "metadata": {},
   "source": [
    "Again, a single fit of the estimator provides little insight into general efficiency of the implementation. We perform minimal benchmarking below:"
   ]
  },
  {
   "cell_type": "code",
   "execution_count": 15,
   "metadata": {},
   "outputs": [
    {
     "data": {
      "text/html": [
       "<table>\n",
       "<thead><tr><th scope=col>expr</th><th scope=col>min</th><th scope=col>lq</th><th scope=col>mean</th><th scope=col>median</th><th scope=col>uq</th><th scope=col>max</th><th scope=col>neval</th></tr></thead>\n",
       "<tbody>\n",
       "\t<tr><td>lassi_fit_m &lt;- fit_hal(x = x, y = y)</td><td>19.64586                               </td><td>23.1305                                </td><td>26.22667                               </td><td>26.65639                               </td><td>29.81555                               </td><td>31.32332                               </td><td>10                                     </td></tr>\n",
       "</tbody>\n",
       "</table>\n"
      ],
      "text/latex": [
       "\\begin{tabular}{r|llllllll}\n",
       " expr & min & lq & mean & median & uq & max & neval\\\\\n",
       "\\hline\n",
       "\t lassi\\_fit\\_m <- fit\\_hal(x = x, y = y) & 19.64586                                   & 23.1305                                    & 26.22667                                   & 26.65639                                   & 29.81555                                   & 31.32332                                   & 10                                        \\\\\n",
       "\\end{tabular}\n"
      ],
      "text/markdown": [
       "\n",
       "expr | min | lq | mean | median | uq | max | neval | \n",
       "|---|\n",
       "| lassi_fit_m <- fit_hal(x = x, y = y) | 19.64586                             | 23.1305                              | 26.22667                             | 26.65639                             | 29.81555                             | 31.32332                             | 10                                   | \n",
       "\n",
       "\n"
      ],
      "text/plain": [
       "  expr                                 min      lq      mean     median  \n",
       "1 lassi_fit_m <- fit_hal(x = x, y = y) 19.64586 23.1305 26.22667 26.65639\n",
       "  uq       max      neval\n",
       "1 29.81555 31.32332 10   "
      ]
     },
     "metadata": {},
     "output_type": "display_data"
    }
   ],
   "source": [
    "m_lassi <- microbenchmark(unit = \"s\", times = 10,\n",
    "  lassi_fit_m <- fit_hal(x = x, y = y)\n",
    ")\n",
    "summary(m_lassi)"
   ]
  },
  {
   "cell_type": "markdown",
   "metadata": {
    "collapsed": true
   },
   "source": [
    "We can visualize the results of the benchmarking process like so"
   ]
  },
  {
   "cell_type": "code",
   "execution_count": 62,
   "metadata": {
    "collapsed": true
   },
   "outputs": [],
   "source": [
    "# make plot\n",
    "p_lassi_times <- m_lassi %>%\n",
    " dplyr::transmute(\n",
    "     time_sec = time / 10^9\n",
    " ) %>%\n",
    " gather() %>%\n",
    " ggplot(., aes(x = key, y = value)) + geom_boxplot() + geom_point() +\n",
    "   xlab(\"\") + ylab(\"time (sec.)\") + ggtitle(\"HAL9000\") + theme_minimal()"
   ]
  },
  {
   "cell_type": "markdown",
   "metadata": {},
   "source": [
    "## HAL9000 Performance: Benchmarking Results"
   ]
  },
  {
   "cell_type": "markdown",
   "metadata": {},
   "source": [
    "Let's now take a look at the results of the benchmarking process a bit more closely."
   ]
  },
  {
   "cell_type": "code",
   "execution_count": 56,
   "metadata": {},
   "outputs": [
    {
     "data": {
      "text/html": [
       "<table>\n",
       "<thead><tr><th scope=col>expr</th><th scope=col>min</th><th scope=col>lq</th><th scope=col>mean</th><th scope=col>median</th><th scope=col>uq</th><th scope=col>max</th><th scope=col>neval</th></tr></thead>\n",
       "<tbody>\n",
       "\t<tr><td>hal_fit_m &lt;- hal(Y = y, X = x, verbose = FALSE)</td><td>47.99729                                          </td><td>49.14772                                          </td><td>54.67328                                          </td><td>51.26018                                          </td><td>58.21695                                          </td><td>70.68861                                          </td><td>10                                                </td></tr>\n",
       "</tbody>\n",
       "</table>\n"
      ],
      "text/latex": [
       "\\begin{tabular}{r|llllllll}\n",
       " expr & min & lq & mean & median & uq & max & neval\\\\\n",
       "\\hline\n",
       "\t hal\\_fit\\_m <- hal(Y = y, X = x, verbose = FALSE) & 47.99729                                            & 49.14772                                            & 54.67328                                            & 51.26018                                            & 58.21695                                            & 70.68861                                            & 10                                                 \\\\\n",
       "\\end{tabular}\n"
      ],
      "text/markdown": [
       "\n",
       "expr | min | lq | mean | median | uq | max | neval | \n",
       "|---|\n",
       "| hal_fit_m <- hal(Y = y, X = x, verbose = FALSE) | 47.99729                                        | 49.14772                                        | 54.67328                                        | 51.26018                                        | 58.21695                                        | 70.68861                                        | 10                                              | \n",
       "\n",
       "\n"
      ],
      "text/plain": [
       "  expr                                            min      lq       mean    \n",
       "1 hal_fit_m <- hal(Y = y, X = x, verbose = FALSE) 47.99729 49.14772 54.67328\n",
       "  median   uq       max      neval\n",
       "1 51.26018 58.21695 70.68861 10   "
      ]
     },
     "metadata": {},
     "output_type": "display_data"
    },
    {
     "data": {
      "text/html": [
       "<table>\n",
       "<thead><tr><th scope=col>expr</th><th scope=col>min</th><th scope=col>lq</th><th scope=col>mean</th><th scope=col>median</th><th scope=col>uq</th><th scope=col>max</th><th scope=col>neval</th></tr></thead>\n",
       "<tbody>\n",
       "\t<tr><td>lassi_fit_m &lt;- fit_hal(x = x, y = y)</td><td>19.64586                               </td><td>23.1305                                </td><td>26.22667                               </td><td>26.65639                               </td><td>29.81555                               </td><td>31.32332                               </td><td>10                                     </td></tr>\n",
       "</tbody>\n",
       "</table>\n"
      ],
      "text/latex": [
       "\\begin{tabular}{r|llllllll}\n",
       " expr & min & lq & mean & median & uq & max & neval\\\\\n",
       "\\hline\n",
       "\t lassi\\_fit\\_m <- fit\\_hal(x = x, y = y) & 19.64586                                   & 23.1305                                    & 26.22667                                   & 26.65639                                   & 29.81555                                   & 31.32332                                   & 10                                        \\\\\n",
       "\\end{tabular}\n"
      ],
      "text/markdown": [
       "\n",
       "expr | min | lq | mean | median | uq | max | neval | \n",
       "|---|\n",
       "| lassi_fit_m <- fit_hal(x = x, y = y) | 19.64586                             | 23.1305                              | 26.22667                             | 26.65639                             | 29.81555                             | 31.32332                             | 10                                   | \n",
       "\n",
       "\n"
      ],
      "text/plain": [
       "  expr                                 min      lq      mean     median  \n",
       "1 lassi_fit_m <- fit_hal(x = x, y = y) 19.64586 23.1305 26.22667 26.65639\n",
       "  uq       max      neval\n",
       "1 29.81555 31.32332 10   "
      ]
     },
     "metadata": {},
     "output_type": "display_data"
    }
   ],
   "source": [
    "summary(m_hal)\n",
    "summary(m_lassi)"
   ]
  },
  {
   "cell_type": "code",
   "execution_count": 106,
   "metadata": {},
   "outputs": [
    {
     "data": {},
     "metadata": {},
     "output_type": "display_data"
    },
    {
     "data": {
      "image/png": "[encoded data removed]",
      "text/plain": [
       "plot without title"
      ]
     },
     "metadata": {},
     "output_type": "display_data"
    }
   ],
   "source": [
    "p_fit_times <- as.data.frame(rbind(m_hal, m_lassi)) %>%\n",
    "  transmute(\n",
    "    type = ifelse(stringr::str_sub(as.character(expr), 1, 3) == \"hal\", \"R\", \"Rcpp\"),\n",
    "    time = time / 10^9\n",
    "  ) %>%\n",
    "  group_by(type) %>%\n",
    "  ggplot(., aes(x = type, y = time, colour = type)) + geom_boxplot() + geom_point() +\n",
    "   stat_boxplot(geom ='errorbar') +  xlab(\"\") + ylab(\"time (sec.)\") + ggtitle(\"\") +\n",
    "   theme_minimal() + theme(legend.position = \"none\")\n",
    "p_fit_times"
   ]
  },
  {
   "cell_type": "markdown",
   "metadata": {},
   "source": [
    "## HAL9000 Performance: Prediction Accuracy"
   ]
  },
  {
   "cell_type": "markdown",
   "metadata": {},
   "source": [
    "In-sample prediction accuracy:"
   ]
  },
  {
   "cell_type": "code",
   "execution_count": 112,
   "metadata": {},
   "outputs": [
    {
     "data": {
      "text/html": [
       "0.0284770902743755"
      ],
      "text/latex": [
       "0.0284770902743755"
      ],
      "text/markdown": [
       "0.0284770902743755"
      ],
      "text/plain": [
       "[1] 0.02847709"
      ]
     },
     "metadata": {},
     "output_type": "display_data"
    },
    {
     "data": {
      "text/html": [
       "0.0391319552846809"
      ],
      "text/latex": [
       "0.0391319552846809"
      ],
      "text/markdown": [
       "0.0391319552846809"
      ],
      "text/plain": [
       "[1] 0.03913196"
      ]
     },
     "metadata": {},
     "output_type": "display_data"
    }
   ],
   "source": [
    "# training sample prediction for HAL vs HAL9000\n",
    "mse <- function(preds, y) {\n",
    "    mean((preds - y)^2)\n",
    "}\n",
    "preds_hal <- predict(hal_fit, x, verbose = FALSE)\n",
    "preds_lassi <- predict(lassi_fit, x)\n",
    "\n",
    "mse_hal <- mse(preds_hal, y)\n",
    "mse_lassi <- mse(preds_lassi, y)\n",
    "\n",
    "mse_hal\n",
    "mse_lassi"
   ]
  },
  {
   "cell_type": "markdown",
   "metadata": {},
   "source": [
    "Out-of-bag (OOB) prediction accuracy:"
   ]
  },
  {
   "cell_type": "code",
   "execution_count": 114,
   "metadata": {},
   "outputs": [
    {
     "data": {
      "text/html": [
       "0.380402380061701"
      ],
      "text/latex": [
       "0.380402380061701"
      ],
      "text/markdown": [
       "0.380402380061701"
      ],
      "text/plain": [
       "[1] 0.3804024"
      ]
     },
     "metadata": {},
     "output_type": "display_data"
    },
    {
     "data": {
      "text/html": [
       "0.352393572553347"
      ],
      "text/latex": [
       "0.352393572553347"
      ],
      "text/markdown": [
       "0.352393572553347"
      ],
      "text/plain": [
       "[1] 0.3523936"
      ]
     },
     "metadata": {},
     "output_type": "display_data"
    }
   ],
   "source": [
    "oob_hal <- predict(hal_fit, test_x, verbose = FALSE)\n",
    "oob_lassi <- predict(lassi_fit, test_x)\n",
    "\n",
    "oob_hal_mse <- mse(oob_hal, test_y)\n",
    "oob_lassi_mse <- mse(oob_lassi, test_y)\n",
    "\n",
    "oob_hal_mse\n",
    "oob_lassi_mse"
   ]
  },
  {
   "cell_type": "markdown",
   "metadata": {},
   "source": [
    "## HAL9000: What's under the hood?"
   ]
  },
  {
   "cell_type": "markdown",
   "metadata": {},
   "source": [
    "We can squash the HAL9000 fit object to save memory (and time, due to memory allocation system calls). Let's take a look at whether this impacts performance at all."
   ]
  },
  {
   "cell_type": "code",
   "execution_count": 117,
   "metadata": {},
   "outputs": [
    {
     "data": {
      "text/html": [
       "<ol class=list-inline>\n",
       "\t<li>110416</li>\n",
       "\t<li>4222872</li>\n",
       "</ol>\n"
      ],
      "text/latex": [
       "\\begin{enumerate*}\n",
       "\\item 110416\n",
       "\\item 4222872\n",
       "\\end{enumerate*}\n"
      ],
      "text/markdown": [
       "1. 110416\n",
       "2. 4222872\n",
       "\n",
       "\n"
      ],
      "text/plain": [
       "[1]  110416 4222872"
      ]
     },
     "metadata": {},
     "output_type": "display_data"
    },
    {
     "data": {
      "text/html": [
       "<table>\n",
       "<thead><tr><th scope=col>preds</th><th scope=col>sq_preds</th></tr></thead>\n",
       "<tbody>\n",
       "\t<tr><td> 0.32763828</td><td> 0.35713205</td></tr>\n",
       "\t<tr><td>-0.59829092</td><td>-0.52897075</td></tr>\n",
       "\t<tr><td>-0.08455141</td><td>-0.12366718</td></tr>\n",
       "\t<tr><td> 0.03302364</td><td> 0.06973101</td></tr>\n",
       "\t<tr><td> 0.05785975</td><td> 0.09773141</td></tr>\n",
       "\t<tr><td> 0.06662323</td><td> 0.07490065</td></tr>\n",
       "\t<tr><td>-0.15210716</td><td>-0.12834282</td></tr>\n",
       "\t<tr><td> 0.07331256</td><td> 0.02269795</td></tr>\n",
       "\t<tr><td>-0.12504380</td><td>-0.16138027</td></tr>\n",
       "\t<tr><td>-0.76330626</td><td>-0.65878238</td></tr>\n",
       "\t<tr><td> 0.61427406</td><td> 0.49013533</td></tr>\n",
       "\t<tr><td>-0.74884888</td><td>-0.64424150</td></tr>\n",
       "\t<tr><td> 0.23233126</td><td> 0.21587978</td></tr>\n",
       "\t<tr><td>-0.01432744</td><td> 0.04324461</td></tr>\n",
       "\t<tr><td>-0.27463418</td><td>-0.26842077</td></tr>\n",
       "\t<tr><td> 0.27358857</td><td> 0.23687942</td></tr>\n",
       "\t<tr><td>-0.45005147</td><td>-0.44925864</td></tr>\n",
       "\t<tr><td>-0.33910543</td><td>-0.32154486</td></tr>\n",
       "\t<tr><td>-0.09065730</td><td>-0.09213274</td></tr>\n",
       "\t<tr><td> 0.10797990</td><td> 0.10319722</td></tr>\n",
       "\t<tr><td> 0.04570927</td><td> 0.03091845</td></tr>\n",
       "\t<tr><td>-0.13460185</td><td>-0.12089931</td></tr>\n",
       "\t<tr><td>-0.09167458</td><td>-0.08642644</td></tr>\n",
       "\t<tr><td> 0.34412673</td><td> 0.35700663</td></tr>\n",
       "\t<tr><td>-0.71507050</td><td>-0.68952031</td></tr>\n",
       "\t<tr><td> 0.13222671</td><td> 0.17695556</td></tr>\n",
       "\t<tr><td> 0.86915997</td><td> 0.83760691</td></tr>\n",
       "\t<tr><td> 0.08950558</td><td> 0.05129422</td></tr>\n",
       "\t<tr><td> 0.37725961</td><td> 0.33823812</td></tr>\n",
       "\t<tr><td>-0.20423834</td><td>-0.18838798</td></tr>\n",
       "\t<tr><td>⋮</td><td>⋮</td></tr>\n",
       "\t<tr><td> 0.57134391</td><td> 0.49370264</td></tr>\n",
       "\t<tr><td> 0.43559419</td><td> 0.46815289</td></tr>\n",
       "\t<tr><td> 0.73467230</td><td> 0.68765810</td></tr>\n",
       "\t<tr><td>-0.38471724</td><td>-0.45307246</td></tr>\n",
       "\t<tr><td>-0.19022950</td><td>-0.19879459</td></tr>\n",
       "\t<tr><td>-0.26500372</td><td>-0.21809522</td></tr>\n",
       "\t<tr><td>-0.20278888</td><td>-0.22555918</td></tr>\n",
       "\t<tr><td> 0.21666388</td><td> 0.22703783</td></tr>\n",
       "\t<tr><td>-0.71329078</td><td>-0.63295576</td></tr>\n",
       "\t<tr><td>-0.37765583</td><td>-0.33525261</td></tr>\n",
       "\t<tr><td> 0.61412527</td><td> 0.49013533</td></tr>\n",
       "\t<tr><td> 0.05854788</td><td> 0.07536992</td></tr>\n",
       "\t<tr><td> 0.61412527</td><td> 0.49013533</td></tr>\n",
       "\t<tr><td> 0.87586027</td><td> 0.79888996</td></tr>\n",
       "\t<tr><td> 0.08992446</td><td> 0.10607576</td></tr>\n",
       "\t<tr><td>-0.38216475</td><td>-0.39487956</td></tr>\n",
       "\t<tr><td> 0.34375301</td><td> 0.33534431</td></tr>\n",
       "\t<tr><td> 0.01705529</td><td> 0.02157310</td></tr>\n",
       "\t<tr><td>-0.25961802</td><td>-0.25812695</td></tr>\n",
       "\t<tr><td>-0.50011640</td><td>-0.49246745</td></tr>\n",
       "\t<tr><td> 0.46465324</td><td> 0.36365970</td></tr>\n",
       "\t<tr><td> 0.46726291</td><td> 0.46269917</td></tr>\n",
       "\t<tr><td>-0.68435011</td><td>-0.60474304</td></tr>\n",
       "\t<tr><td>-0.02618824</td><td>-0.03210983</td></tr>\n",
       "\t<tr><td> 0.24505302</td><td> 0.23677515</td></tr>\n",
       "\t<tr><td> 0.14840904</td><td> 0.19095143</td></tr>\n",
       "\t<tr><td>-0.61879152</td><td>-0.54961755</td></tr>\n",
       "\t<tr><td>-0.61316309</td><td>-0.56461001</td></tr>\n",
       "\t<tr><td> 0.02211018</td><td> 0.03875960</td></tr>\n",
       "\t<tr><td>-0.16942994</td><td>-0.19214545</td></tr>\n",
       "</tbody>\n",
       "</table>\n"
      ],
      "text/latex": [
       "\\begin{tabular}{ll}\n",
       " preds & sq\\_preds\\\\\n",
       "\\hline\n",
       "\t  0.32763828 &  0.35713205\\\\\n",
       "\t -0.59829092 & -0.52897075\\\\\n",
       "\t -0.08455141 & -0.12366718\\\\\n",
       "\t  0.03302364 &  0.06973101\\\\\n",
       "\t  0.05785975 &  0.09773141\\\\\n",
       "\t  0.06662323 &  0.07490065\\\\\n",
       "\t -0.15210716 & -0.12834282\\\\\n",
       "\t  0.07331256 &  0.02269795\\\\\n",
       "\t -0.12504380 & -0.16138027\\\\\n",
       "\t -0.76330626 & -0.65878238\\\\\n",
       "\t  0.61427406 &  0.49013533\\\\\n",
       "\t -0.74884888 & -0.64424150\\\\\n",
       "\t  0.23233126 &  0.21587978\\\\\n",
       "\t -0.01432744 &  0.04324461\\\\\n",
       "\t -0.27463418 & -0.26842077\\\\\n",
       "\t  0.27358857 &  0.23687942\\\\\n",
       "\t -0.45005147 & -0.44925864\\\\\n",
       "\t -0.33910543 & -0.32154486\\\\\n",
       "\t -0.09065730 & -0.09213274\\\\\n",
       "\t  0.10797990 &  0.10319722\\\\\n",
       "\t  0.04570927 &  0.03091845\\\\\n",
       "\t -0.13460185 & -0.12089931\\\\\n",
       "\t -0.09167458 & -0.08642644\\\\\n",
       "\t  0.34412673 &  0.35700663\\\\\n",
       "\t -0.71507050 & -0.68952031\\\\\n",
       "\t  0.13222671 &  0.17695556\\\\\n",
       "\t  0.86915997 &  0.83760691\\\\\n",
       "\t  0.08950558 &  0.05129422\\\\\n",
       "\t  0.37725961 &  0.33823812\\\\\n",
       "\t -0.20423834 & -0.18838798\\\\\n",
       "\t ⋮ & ⋮\\\\\n",
       "\t  0.57134391 &  0.49370264\\\\\n",
       "\t  0.43559419 &  0.46815289\\\\\n",
       "\t  0.73467230 &  0.68765810\\\\\n",
       "\t -0.38471724 & -0.45307246\\\\\n",
       "\t -0.19022950 & -0.19879459\\\\\n",
       "\t -0.26500372 & -0.21809522\\\\\n",
       "\t -0.20278888 & -0.22555918\\\\\n",
       "\t  0.21666388 &  0.22703783\\\\\n",
       "\t -0.71329078 & -0.63295576\\\\\n",
       "\t -0.37765583 & -0.33525261\\\\\n",
       "\t  0.61412527 &  0.49013533\\\\\n",
       "\t  0.05854788 &  0.07536992\\\\\n",
       "\t  0.61412527 &  0.49013533\\\\\n",
       "\t  0.87586027 &  0.79888996\\\\\n",
       "\t  0.08992446 &  0.10607576\\\\\n",
       "\t -0.38216475 & -0.39487956\\\\\n",
       "\t  0.34375301 &  0.33534431\\\\\n",
       "\t  0.01705529 &  0.02157310\\\\\n",
       "\t -0.25961802 & -0.25812695\\\\\n",
       "\t -0.50011640 & -0.49246745\\\\\n",
       "\t  0.46465324 &  0.36365970\\\\\n",
       "\t  0.46726291 &  0.46269917\\\\\n",
       "\t -0.68435011 & -0.60474304\\\\\n",
       "\t -0.02618824 & -0.03210983\\\\\n",
       "\t  0.24505302 &  0.23677515\\\\\n",
       "\t  0.14840904 &  0.19095143\\\\\n",
       "\t -0.61879152 & -0.54961755\\\\\n",
       "\t -0.61316309 & -0.56461001\\\\\n",
       "\t  0.02211018 &  0.03875960\\\\\n",
       "\t -0.16942994 & -0.19214545\\\\\n",
       "\\end{tabular}\n"
      ],
      "text/markdown": [
       "\n",
       "preds | sq_preds | \n",
       "|---|---|---|---|---|---|---|---|---|---|---|---|---|---|---|---|---|---|---|---|---|---|---|---|---|---|---|---|---|---|---|---|---|---|---|---|---|---|---|---|---|---|---|---|---|---|---|---|---|---|---|---|---|---|---|---|---|---|---|---|---|\n",
       "|  0.32763828 |  0.35713205 | \n",
       "| -0.59829092 | -0.52897075 | \n",
       "| -0.08455141 | -0.12366718 | \n",
       "|  0.03302364 |  0.06973101 | \n",
       "|  0.05785975 |  0.09773141 | \n",
       "|  0.06662323 |  0.07490065 | \n",
       "| -0.15210716 | -0.12834282 | \n",
       "|  0.07331256 |  0.02269795 | \n",
       "| -0.12504380 | -0.16138027 | \n",
       "| -0.76330626 | -0.65878238 | \n",
       "|  0.61427406 |  0.49013533 | \n",
       "| -0.74884888 | -0.64424150 | \n",
       "|  0.23233126 |  0.21587978 | \n",
       "| -0.01432744 |  0.04324461 | \n",
       "| -0.27463418 | -0.26842077 | \n",
       "|  0.27358857 |  0.23687942 | \n",
       "| -0.45005147 | -0.44925864 | \n",
       "| -0.33910543 | -0.32154486 | \n",
       "| -0.09065730 | -0.09213274 | \n",
       "|  0.10797990 |  0.10319722 | \n",
       "|  0.04570927 |  0.03091845 | \n",
       "| -0.13460185 | -0.12089931 | \n",
       "| -0.09167458 | -0.08642644 | \n",
       "|  0.34412673 |  0.35700663 | \n",
       "| -0.71507050 | -0.68952031 | \n",
       "|  0.13222671 |  0.17695556 | \n",
       "|  0.86915997 |  0.83760691 | \n",
       "|  0.08950558 |  0.05129422 | \n",
       "|  0.37725961 |  0.33823812 | \n",
       "| -0.20423834 | -0.18838798 | \n",
       "| ⋮ | ⋮ | \n",
       "|  0.57134391 |  0.49370264 | \n",
       "|  0.43559419 |  0.46815289 | \n",
       "|  0.73467230 |  0.68765810 | \n",
       "| -0.38471724 | -0.45307246 | \n",
       "| -0.19022950 | -0.19879459 | \n",
       "| -0.26500372 | -0.21809522 | \n",
       "| -0.20278888 | -0.22555918 | \n",
       "|  0.21666388 |  0.22703783 | \n",
       "| -0.71329078 | -0.63295576 | \n",
       "| -0.37765583 | -0.33525261 | \n",
       "|  0.61412527 |  0.49013533 | \n",
       "|  0.05854788 |  0.07536992 | \n",
       "|  0.61412527 |  0.49013533 | \n",
       "|  0.87586027 |  0.79888996 | \n",
       "|  0.08992446 |  0.10607576 | \n",
       "| -0.38216475 | -0.39487956 | \n",
       "|  0.34375301 |  0.33534431 | \n",
       "|  0.01705529 |  0.02157310 | \n",
       "| -0.25961802 | -0.25812695 | \n",
       "| -0.50011640 | -0.49246745 | \n",
       "|  0.46465324 |  0.36365970 | \n",
       "|  0.46726291 |  0.46269917 | \n",
       "| -0.68435011 | -0.60474304 | \n",
       "| -0.02618824 | -0.03210983 | \n",
       "|  0.24505302 |  0.23677515 | \n",
       "|  0.14840904 |  0.19095143 | \n",
       "| -0.61879152 | -0.54961755 | \n",
       "| -0.61316309 | -0.56461001 | \n",
       "|  0.02211018 |  0.03875960 | \n",
       "| -0.16942994 | -0.19214545 | \n",
       "\n",
       "\n"
      ],
      "text/plain": [
       "      preds       sq_preds   \n",
       " [1,]  0.32763828  0.35713205\n",
       " [2,] -0.59829092 -0.52897075\n",
       " [3,] -0.08455141 -0.12366718\n",
       " [4,]  0.03302364  0.06973101\n",
       " [5,]  0.05785975  0.09773141\n",
       " [6,]  0.06662323  0.07490065\n",
       " [7,] -0.15210716 -0.12834282\n",
       " [8,]  0.07331256  0.02269795\n",
       " [9,] -0.12504380 -0.16138027\n",
       "[10,] -0.76330626 -0.65878238\n",
       "[11,]  0.61427406  0.49013533\n",
       "[12,] -0.74884888 -0.64424150\n",
       "[13,]  0.23233126  0.21587978\n",
       "[14,] -0.01432744  0.04324461\n",
       "[15,] -0.27463418 -0.26842077\n",
       "[16,]  0.27358857  0.23687942\n",
       "[17,] -0.45005147 -0.44925864\n",
       "[18,] -0.33910543 -0.32154486\n",
       "[19,] -0.09065730 -0.09213274\n",
       "[20,]  0.10797990  0.10319722\n",
       "[21,]  0.04570927  0.03091845\n",
       "[22,] -0.13460185 -0.12089931\n",
       "[23,] -0.09167458 -0.08642644\n",
       "[24,]  0.34412673  0.35700663\n",
       "[25,] -0.71507050 -0.68952031\n",
       "[26,]  0.13222671  0.17695556\n",
       "[27,]  0.86915997  0.83760691\n",
       "[28,]  0.08950558  0.05129422\n",
       "[29,]  0.37725961  0.33823812\n",
       "[30,] -0.20423834 -0.18838798\n",
       "[31,] ⋮           ⋮          \n",
       "[32,]  0.57134391  0.49370264\n",
       "[33,]  0.43559419  0.46815289\n",
       "[34,]  0.73467230  0.68765810\n",
       "[35,] -0.38471724 -0.45307246\n",
       "[36,] -0.19022950 -0.19879459\n",
       "[37,] -0.26500372 -0.21809522\n",
       "[38,] -0.20278888 -0.22555918\n",
       "[39,]  0.21666388  0.22703783\n",
       "[40,] -0.71329078 -0.63295576\n",
       "[41,] -0.37765583 -0.33525261\n",
       "[42,]  0.61412527  0.49013533\n",
       "[43,]  0.05854788  0.07536992\n",
       "[44,]  0.61412527  0.49013533\n",
       "[45,]  0.87586027  0.79888996\n",
       "[46,]  0.08992446  0.10607576\n",
       "[47,] -0.38216475 -0.39487956\n",
       "[48,]  0.34375301  0.33534431\n",
       "[49,]  0.01705529  0.02157310\n",
       "[50,] -0.25961802 -0.25812695\n",
       " [ reached getOption(\"max.print\") -- omitted 11 rows ]"
      ]
     },
     "metadata": {},
     "output_type": "display_data"
    },
    {
     "data": {
      "text/html": [
       "<table>\n",
       "<thead><tr><th scope=col>oob_lassi</th><th scope=col>sq_oob_lassi</th></tr></thead>\n",
       "<tbody>\n",
       "\t<tr><td>-0.341705925</td><td>-0.341705925</td></tr>\n",
       "\t<tr><td> 0.296607531</td><td> 0.296607531</td></tr>\n",
       "\t<tr><td> 0.268675846</td><td> 0.268675846</td></tr>\n",
       "\t<tr><td> 0.490135330</td><td> 0.490135330</td></tr>\n",
       "\t<tr><td>-0.048658085</td><td>-0.048658085</td></tr>\n",
       "\t<tr><td> 0.764912181</td><td> 0.764912181</td></tr>\n",
       "\t<tr><td> 0.583542436</td><td> 0.583542436</td></tr>\n",
       "\t<tr><td>-0.462750320</td><td>-0.462750320</td></tr>\n",
       "\t<tr><td>-0.313672726</td><td>-0.313672726</td></tr>\n",
       "\t<tr><td> 0.408776918</td><td> 0.408776918</td></tr>\n",
       "\t<tr><td>-0.663112637</td><td>-0.663112637</td></tr>\n",
       "\t<tr><td>-0.365538451</td><td>-0.365538451</td></tr>\n",
       "\t<tr><td> 0.490135330</td><td> 0.490135330</td></tr>\n",
       "\t<tr><td>-0.543340448</td><td>-0.543340448</td></tr>\n",
       "\t<tr><td>-0.008288749</td><td>-0.008288749</td></tr>\n",
       "\t<tr><td>-0.265387500</td><td>-0.265387500</td></tr>\n",
       "\t<tr><td>-0.089084206</td><td>-0.089084206</td></tr>\n",
       "\t<tr><td>-0.255630021</td><td>-0.255630021</td></tr>\n",
       "\t<tr><td>-0.148498684</td><td>-0.148498684</td></tr>\n",
       "\t<tr><td> 0.415451994</td><td> 0.415451994</td></tr>\n",
       "\t<tr><td>-0.630791271</td><td>-0.630791271</td></tr>\n",
       "\t<tr><td>-0.375982447</td><td>-0.375982447</td></tr>\n",
       "\t<tr><td>-0.068707337</td><td>-0.068707337</td></tr>\n",
       "\t<tr><td> 0.066117811</td><td> 0.066117811</td></tr>\n",
       "\t<tr><td>-0.246819852</td><td>-0.246819852</td></tr>\n",
       "\t<tr><td> 0.198102450</td><td> 0.198102450</td></tr>\n",
       "\t<tr><td>-0.683841878</td><td>-0.683841878</td></tr>\n",
       "\t<tr><td> 0.395138520</td><td> 0.395138520</td></tr>\n",
       "\t<tr><td> 0.009635211</td><td> 0.009635211</td></tr>\n",
       "\t<tr><td> 0.478849586</td><td> 0.478849586</td></tr>\n",
       "\t<tr><td>⋮</td><td>⋮</td></tr>\n",
       "\t<tr><td> 0.002451651</td><td> 0.002451651</td></tr>\n",
       "\t<tr><td>-0.308443628</td><td>-0.308443628</td></tr>\n",
       "\t<tr><td>-0.554882806</td><td>-0.554882806</td></tr>\n",
       "\t<tr><td>-0.166863125</td><td>-0.166863125</td></tr>\n",
       "\t<tr><td> 0.799872689</td><td> 0.799872689</td></tr>\n",
       "\t<tr><td> 0.388250521</td><td> 0.388250521</td></tr>\n",
       "\t<tr><td>-0.549617546</td><td>-0.549617546</td></tr>\n",
       "\t<tr><td> 0.032312752</td><td> 0.032312752</td></tr>\n",
       "\t<tr><td> 0.798142243</td><td> 0.798142243</td></tr>\n",
       "\t<tr><td> 0.146647332</td><td> 0.146647332</td></tr>\n",
       "\t<tr><td> 0.210057160</td><td> 0.210057160</td></tr>\n",
       "\t<tr><td> 0.683384696</td><td> 0.683384696</td></tr>\n",
       "\t<tr><td>-0.012801001</td><td>-0.012801001</td></tr>\n",
       "\t<tr><td> 0.453309943</td><td> 0.453309943</td></tr>\n",
       "\t<tr><td>-0.683841878</td><td>-0.683841878</td></tr>\n",
       "\t<tr><td>-0.014295315</td><td>-0.014295315</td></tr>\n",
       "\t<tr><td> 0.111412377</td><td> 0.111412377</td></tr>\n",
       "\t<tr><td>-0.757253299</td><td>-0.757253299</td></tr>\n",
       "\t<tr><td>-0.157898418</td><td>-0.157898418</td></tr>\n",
       "\t<tr><td>-0.090401594</td><td>-0.090401594</td></tr>\n",
       "\t<tr><td> 0.210057160</td><td> 0.210057160</td></tr>\n",
       "\t<tr><td> 0.193425344</td><td> 0.193425344</td></tr>\n",
       "\t<tr><td> 0.108769116</td><td> 0.108769116</td></tr>\n",
       "\t<tr><td> 0.634576371</td><td> 0.634576371</td></tr>\n",
       "\t<tr><td>-0.177587503</td><td>-0.177587503</td></tr>\n",
       "\t<tr><td> 0.388250521</td><td> 0.388250521</td></tr>\n",
       "\t<tr><td>-0.384838942</td><td>-0.384838942</td></tr>\n",
       "\t<tr><td>-0.017304742</td><td>-0.017304742</td></tr>\n",
       "\t<tr><td>-0.345471908</td><td>-0.345471908</td></tr>\n",
       "\t<tr><td> 0.063582397</td><td> 0.063582397</td></tr>\n",
       "</tbody>\n",
       "</table>\n"
      ],
      "text/latex": [
       "\\begin{tabular}{ll}\n",
       " oob\\_lassi & sq\\_oob\\_lassi\\\\\n",
       "\\hline\n",
       "\t -0.341705925 & -0.341705925\\\\\n",
       "\t  0.296607531 &  0.296607531\\\\\n",
       "\t  0.268675846 &  0.268675846\\\\\n",
       "\t  0.490135330 &  0.490135330\\\\\n",
       "\t -0.048658085 & -0.048658085\\\\\n",
       "\t  0.764912181 &  0.764912181\\\\\n",
       "\t  0.583542436 &  0.583542436\\\\\n",
       "\t -0.462750320 & -0.462750320\\\\\n",
       "\t -0.313672726 & -0.313672726\\\\\n",
       "\t  0.408776918 &  0.408776918\\\\\n",
       "\t -0.663112637 & -0.663112637\\\\\n",
       "\t -0.365538451 & -0.365538451\\\\\n",
       "\t  0.490135330 &  0.490135330\\\\\n",
       "\t -0.543340448 & -0.543340448\\\\\n",
       "\t -0.008288749 & -0.008288749\\\\\n",
       "\t -0.265387500 & -0.265387500\\\\\n",
       "\t -0.089084206 & -0.089084206\\\\\n",
       "\t -0.255630021 & -0.255630021\\\\\n",
       "\t -0.148498684 & -0.148498684\\\\\n",
       "\t  0.415451994 &  0.415451994\\\\\n",
       "\t -0.630791271 & -0.630791271\\\\\n",
       "\t -0.375982447 & -0.375982447\\\\\n",
       "\t -0.068707337 & -0.068707337\\\\\n",
       "\t  0.066117811 &  0.066117811\\\\\n",
       "\t -0.246819852 & -0.246819852\\\\\n",
       "\t  0.198102450 &  0.198102450\\\\\n",
       "\t -0.683841878 & -0.683841878\\\\\n",
       "\t  0.395138520 &  0.395138520\\\\\n",
       "\t  0.009635211 &  0.009635211\\\\\n",
       "\t  0.478849586 &  0.478849586\\\\\n",
       "\t ⋮ & ⋮\\\\\n",
       "\t  0.002451651 &  0.002451651\\\\\n",
       "\t -0.308443628 & -0.308443628\\\\\n",
       "\t -0.554882806 & -0.554882806\\\\\n",
       "\t -0.166863125 & -0.166863125\\\\\n",
       "\t  0.799872689 &  0.799872689\\\\\n",
       "\t  0.388250521 &  0.388250521\\\\\n",
       "\t -0.549617546 & -0.549617546\\\\\n",
       "\t  0.032312752 &  0.032312752\\\\\n",
       "\t  0.798142243 &  0.798142243\\\\\n",
       "\t  0.146647332 &  0.146647332\\\\\n",
       "\t  0.210057160 &  0.210057160\\\\\n",
       "\t  0.683384696 &  0.683384696\\\\\n",
       "\t -0.012801001 & -0.012801001\\\\\n",
       "\t  0.453309943 &  0.453309943\\\\\n",
       "\t -0.683841878 & -0.683841878\\\\\n",
       "\t -0.014295315 & -0.014295315\\\\\n",
       "\t  0.111412377 &  0.111412377\\\\\n",
       "\t -0.757253299 & -0.757253299\\\\\n",
       "\t -0.157898418 & -0.157898418\\\\\n",
       "\t -0.090401594 & -0.090401594\\\\\n",
       "\t  0.210057160 &  0.210057160\\\\\n",
       "\t  0.193425344 &  0.193425344\\\\\n",
       "\t  0.108769116 &  0.108769116\\\\\n",
       "\t  0.634576371 &  0.634576371\\\\\n",
       "\t -0.177587503 & -0.177587503\\\\\n",
       "\t  0.388250521 &  0.388250521\\\\\n",
       "\t -0.384838942 & -0.384838942\\\\\n",
       "\t -0.017304742 & -0.017304742\\\\\n",
       "\t -0.345471908 & -0.345471908\\\\\n",
       "\t  0.063582397 &  0.063582397\\\\\n",
       "\\end{tabular}\n"
      ],
      "text/markdown": [
       "\n",
       "oob_lassi | sq_oob_lassi | \n",
       "|---|---|---|---|---|---|---|---|---|---|---|---|---|---|---|---|---|---|---|---|---|---|---|---|---|---|---|---|---|---|---|---|---|---|---|---|---|---|---|---|---|---|---|---|---|---|---|---|---|---|---|---|---|---|---|---|---|---|---|---|---|\n",
       "| -0.341705925 | -0.341705925 | \n",
       "|  0.296607531 |  0.296607531 | \n",
       "|  0.268675846 |  0.268675846 | \n",
       "|  0.490135330 |  0.490135330 | \n",
       "| -0.048658085 | -0.048658085 | \n",
       "|  0.764912181 |  0.764912181 | \n",
       "|  0.583542436 |  0.583542436 | \n",
       "| -0.462750320 | -0.462750320 | \n",
       "| -0.313672726 | -0.313672726 | \n",
       "|  0.408776918 |  0.408776918 | \n",
       "| -0.663112637 | -0.663112637 | \n",
       "| -0.365538451 | -0.365538451 | \n",
       "|  0.490135330 |  0.490135330 | \n",
       "| -0.543340448 | -0.543340448 | \n",
       "| -0.008288749 | -0.008288749 | \n",
       "| -0.265387500 | -0.265387500 | \n",
       "| -0.089084206 | -0.089084206 | \n",
       "| -0.255630021 | -0.255630021 | \n",
       "| -0.148498684 | -0.148498684 | \n",
       "|  0.415451994 |  0.415451994 | \n",
       "| -0.630791271 | -0.630791271 | \n",
       "| -0.375982447 | -0.375982447 | \n",
       "| -0.068707337 | -0.068707337 | \n",
       "|  0.066117811 |  0.066117811 | \n",
       "| -0.246819852 | -0.246819852 | \n",
       "|  0.198102450 |  0.198102450 | \n",
       "| -0.683841878 | -0.683841878 | \n",
       "|  0.395138520 |  0.395138520 | \n",
       "|  0.009635211 |  0.009635211 | \n",
       "|  0.478849586 |  0.478849586 | \n",
       "| ⋮ | ⋮ | \n",
       "|  0.002451651 |  0.002451651 | \n",
       "| -0.308443628 | -0.308443628 | \n",
       "| -0.554882806 | -0.554882806 | \n",
       "| -0.166863125 | -0.166863125 | \n",
       "|  0.799872689 |  0.799872689 | \n",
       "|  0.388250521 |  0.388250521 | \n",
       "| -0.549617546 | -0.549617546 | \n",
       "|  0.032312752 |  0.032312752 | \n",
       "|  0.798142243 |  0.798142243 | \n",
       "|  0.146647332 |  0.146647332 | \n",
       "|  0.210057160 |  0.210057160 | \n",
       "|  0.683384696 |  0.683384696 | \n",
       "| -0.012801001 | -0.012801001 | \n",
       "|  0.453309943 |  0.453309943 | \n",
       "| -0.683841878 | -0.683841878 | \n",
       "| -0.014295315 | -0.014295315 | \n",
       "|  0.111412377 |  0.111412377 | \n",
       "| -0.757253299 | -0.757253299 | \n",
       "| -0.157898418 | -0.157898418 | \n",
       "| -0.090401594 | -0.090401594 | \n",
       "|  0.210057160 |  0.210057160 | \n",
       "|  0.193425344 |  0.193425344 | \n",
       "|  0.108769116 |  0.108769116 | \n",
       "|  0.634576371 |  0.634576371 | \n",
       "| -0.177587503 | -0.177587503 | \n",
       "|  0.388250521 |  0.388250521 | \n",
       "| -0.384838942 | -0.384838942 | \n",
       "| -0.017304742 | -0.017304742 | \n",
       "| -0.345471908 | -0.345471908 | \n",
       "|  0.063582397 |  0.063582397 | \n",
       "\n",
       "\n"
      ],
      "text/plain": [
       "      oob_lassi    sq_oob_lassi\n",
       " [1,] -0.341705925 -0.341705925\n",
       " [2,]  0.296607531  0.296607531\n",
       " [3,]  0.268675846  0.268675846\n",
       " [4,]  0.490135330  0.490135330\n",
       " [5,] -0.048658085 -0.048658085\n",
       " [6,]  0.764912181  0.764912181\n",
       " [7,]  0.583542436  0.583542436\n",
       " [8,] -0.462750320 -0.462750320\n",
       " [9,] -0.313672726 -0.313672726\n",
       "[10,]  0.408776918  0.408776918\n",
       "[11,] -0.663112637 -0.663112637\n",
       "[12,] -0.365538451 -0.365538451\n",
       "[13,]  0.490135330  0.490135330\n",
       "[14,] -0.543340448 -0.543340448\n",
       "[15,] -0.008288749 -0.008288749\n",
       "[16,] -0.265387500 -0.265387500\n",
       "[17,] -0.089084206 -0.089084206\n",
       "[18,] -0.255630021 -0.255630021\n",
       "[19,] -0.148498684 -0.148498684\n",
       "[20,]  0.415451994  0.415451994\n",
       "[21,] -0.630791271 -0.630791271\n",
       "[22,] -0.375982447 -0.375982447\n",
       "[23,] -0.068707337 -0.068707337\n",
       "[24,]  0.066117811  0.066117811\n",
       "[25,] -0.246819852 -0.246819852\n",
       "[26,]  0.198102450  0.198102450\n",
       "[27,] -0.683841878 -0.683841878\n",
       "[28,]  0.395138520  0.395138520\n",
       "[29,]  0.009635211  0.009635211\n",
       "[30,]  0.478849586  0.478849586\n",
       "[31,] ⋮            ⋮           \n",
       "[32,]  0.002451651  0.002451651\n",
       "[33,] -0.308443628 -0.308443628\n",
       "[34,] -0.554882806 -0.554882806\n",
       "[35,] -0.166863125 -0.166863125\n",
       "[36,]  0.799872689  0.799872689\n",
       "[37,]  0.388250521  0.388250521\n",
       "[38,] -0.549617546 -0.549617546\n",
       "[39,]  0.032312752  0.032312752\n",
       "[40,]  0.798142243  0.798142243\n",
       "[41,]  0.146647332  0.146647332\n",
       "[42,]  0.210057160  0.210057160\n",
       "[43,]  0.683384696  0.683384696\n",
       "[44,] -0.012801001 -0.012801001\n",
       "[45,]  0.453309943  0.453309943\n",
       "[46,] -0.683841878 -0.683841878\n",
       "[47,] -0.014295315 -0.014295315\n",
       "[48,]  0.111412377  0.111412377\n",
       "[49,] -0.757253299 -0.757253299\n",
       "[50,] -0.157898418 -0.157898418\n",
       " [ reached getOption(\"max.print\") -- omitted 11 rows ]"
      ]
     },
     "metadata": {},
     "output_type": "display_data"
    }
   ],
   "source": [
    "squashed_lassi <- squash_hal_fit(lassi_fit)\n",
    "c(object.size(squashed_lassi), object.size(lassi_fit))\n",
    "\n",
    "# verify squashing doesn't impact prediction\n",
    "sq_preds <- predict(lassi_fit, x)\n",
    "cbind(preds, sq_preds)\n",
    "\n",
    "sq_oob_lassi <- predict(lassi_fit, test_x)\n",
    "cbind(oob_lassi, sq_oob_lassi)"
   ]
  },
  {
   "cell_type": "markdown",
   "metadata": {},
   "source": [
    "## Discussion"
   ]
  },
  {
   "cell_type": "markdown",
   "metadata": {},
   "source": [
    "* ...\n",
    "* ...\n",
    "* ...\n",
    "* ..."
   ]
  }
 ],
 "metadata": {
  "kernelspec": {
   "display_name": "R",
   "language": "R",
   "name": "ir"
  },
  "language_info": {
   "codemirror_mode": "r",
   "file_extension": ".r",
   "mimetype": "text/x-r-source",
   "name": "R",
   "pygments_lexer": "r",
   "version": "3.4.1"
  }
 },
 "nbformat": 4,
 "nbformat_minor": 2
}
